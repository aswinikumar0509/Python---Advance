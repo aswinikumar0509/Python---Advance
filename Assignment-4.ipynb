{
 "cells": [
  {
   "cell_type": "markdown",
   "id": "d16ad112",
   "metadata": {},
   "source": [
    "Q1. Which two operator overloading methods can you use in your classes to support iteration?\n",
    "\n",
    "Ans->"
   ]
  },
  {
   "cell_type": "markdown",
   "id": "b30b22c2",
   "metadata": {},
   "source": [
    "__iter__ and __next__ are the operator overloading methods in python that support iteration and are collectively called iterator protocol.\n",
    "\n",
    "1.__iter__ returns the iterator object and is called at the start of loop in our respective class.\n",
    "\n",
    "2.__next__ is called at each loop increment , it returns the incremented value.Also Stopiteration is raised when there is no value to return."
   ]
  },
  {
   "cell_type": "code",
   "execution_count": 2,
   "id": "d24fb055",
   "metadata": {},
   "outputs": [
    {
     "name": "stdout",
     "output_type": "stream",
     "text": [
      "5 6 7 8 9 10 11 12 13 14 15 "
     ]
    }
   ],
   "source": [
    "class counter:\n",
    "    \n",
    "    def __init__(self,low,high):\n",
    "        self.low = low\n",
    "        self.high = high\n",
    "        \n",
    "    def __iter__(self):\n",
    "        return self\n",
    "    def __next__(self):\n",
    "        if self.low>self.high:\n",
    "            raise StopIteration\n",
    "        else:\n",
    "            self.low+=1\n",
    "            return self.low-1\n",
    "        \n",
    "for ele in counter(5,15):\n",
    "    print(ele , end=\" \")"
   ]
  },
  {
   "cell_type": "markdown",
   "id": "e954e107",
   "metadata": {},
   "source": [
    "Q2. In what contexts do the two operator overloading methods manage printing?\n",
    "\n",
    "Ans->"
   ]
  },
  {
   "cell_type": "markdown",
   "id": "e71d33c2",
   "metadata": {},
   "source": [
    "__str__ and __repr__ are two operator overloading methods that manage printing.\n",
    "\n",
    "1.In short , the difference between both these operator is the goal of __repr__ is to be unambiguous and  __str__ is to be readable.\n",
    "\n",
    "2.Whenever we are printing any object reference internally __str__ method will be called by default.\n",
    "\n",
    "3.The main purpose of the __str__ is for readability.it prints the informal string representation of an object , one that is useful for printing the object.it may not be possible to convert result string to original object.\n",
    "\n",
    "4.__repr__ is used to print official string representation of an object,so it includes all information and development."
   ]
  },
  {
   "cell_type": "code",
   "execution_count": 12,
   "id": "91af3934",
   "metadata": {},
   "outputs": [
    {
     "name": "stdout",
     "output_type": "stream",
     "text": [
      "<__main__.student object at 0x00000153A82BB130>\n",
      "student name : Aswini and roll_no :1\n",
      "2022-09-04 00:43:52.595818\n",
      "Unable to convert back to original object\n",
      "datetime.datetime(2022, 9, 4, 0, 43, 52, 595818)\n",
      "2022-09-04 00:43:52.595818\n"
     ]
    }
   ],
   "source": [
    "class student:\n",
    "    def __init__(self, name, roll_no):\n",
    "        self.name = name\n",
    "        self.roll_no = roll_no\n",
    "        \n",
    "s1 = student(\"Aswini\",1)\n",
    "print(str(s1))\n",
    "\n",
    "class student:\n",
    "    \n",
    "    def __init__(self,name,roll_no):\n",
    "        self.name = name\n",
    "        self.roll_no = roll_no\n",
    "        \n",
    "    def __str__(self):\n",
    "        return f'student name : {self.name} and roll_no :{self.roll_no}'\n",
    "    \n",
    "s1 = student(\"Aswini\",1)\n",
    "print(str(s1))\n",
    "\n",
    "import datetime \n",
    "\n",
    "today = datetime.datetime.now()\n",
    "\n",
    "s = str(today)\n",
    "print(s)\n",
    "\n",
    "try : d = eval(s)\n",
    "except : print(\"Unable to convert back to original object\")\n",
    "\n",
    "u = repr(today)\n",
    "print(u)\n",
    "\n",
    "e = eval(u)\n",
    "print(e)"
   ]
  },
  {
   "cell_type": "markdown",
   "id": "402d0622",
   "metadata": {},
   "source": [
    "Q3. In a class, how do you intercept slice operations?\n",
    "\n",
    "Ans->"
   ]
  },
  {
   "cell_type": "markdown",
   "id": "dcf3eaa7",
   "metadata": {},
   "source": [
    "In a class use of slice() in __getitem__ method is used for intercept slice operation. This slice method is provided with start interger number , stop integer number and step integer number.\n",
    "\n",
    "Example : __getitem__(slice(start,stop,step))"
   ]
  },
  {
   "cell_type": "markdown",
   "id": "0cd5d2e9",
   "metadata": {},
   "source": [
    "Q4. In a class, how do you capture in-place addition?\n",
    "\n",
    "Ans->"
   ]
  },
  {
   "cell_type": "markdown",
   "id": "e4d1dde1",
   "metadata": {},
   "source": [
    "a+b is normal addition. Whereas a+=b is inplace addition operation. In this in-place addition a itself will store the value of addition. In a class __iadd__ method is used for this in-place operation."
   ]
  },
  {
   "cell_type": "code",
   "execution_count": 13,
   "id": "ea665773",
   "metadata": {},
   "outputs": [
    {
     "name": "stdout",
     "output_type": "stream",
     "text": [
      "300\n"
     ]
    }
   ],
   "source": [
    "class book:\n",
    "    def __init__(self,pages):\n",
    "        self.pages = pages\n",
    "    \n",
    "    def __iadd__(self,other):\n",
    "        self.pages+=other.pages\n",
    "        return self.pages\n",
    "    \n",
    "b1 = book(100)\n",
    "b2 = book(200)\n",
    "\n",
    "b1+=b2\n",
    "print(b1)"
   ]
  },
  {
   "cell_type": "markdown",
   "id": "79c82caa",
   "metadata": {},
   "source": [
    "Q5. When is it appropriate to use operator overloading?\n",
    "\n",
    "Ans->"
   ]
  },
  {
   "cell_type": "markdown",
   "id": "e08e8e85",
   "metadata": {},
   "source": [
    "Operator overloading is used when we want to use an operator other than its normal operation to have different meaning according to the context required in user defined function."
   ]
  },
  {
   "cell_type": "code",
   "execution_count": null,
   "id": "32a76402",
   "metadata": {},
   "outputs": [],
   "source": []
  }
 ],
 "metadata": {
  "kernelspec": {
   "display_name": "Python 3 (ipykernel)",
   "language": "python",
   "name": "python3"
  },
  "language_info": {
   "codemirror_mode": {
    "name": "ipython",
    "version": 3
   },
   "file_extension": ".py",
   "mimetype": "text/x-python",
   "name": "python",
   "nbconvert_exporter": "python",
   "pygments_lexer": "ipython3",
   "version": "3.9.12"
  }
 },
 "nbformat": 4,
 "nbformat_minor": 5
}
