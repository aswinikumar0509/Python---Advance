{
 "cells": [
  {
   "cell_type": "markdown",
   "id": "6c1f8c46",
   "metadata": {},
   "source": [
    "Q1. What is a probability distribution, exactly? If the values are meant to be random, how can you predict them at all ?"
   ]
  },
  {
   "cell_type": "markdown",
   "id": "21d077ac",
   "metadata": {},
   "source": [
    "A Probability distribution describe how a random variable is distributed.\n",
    "\n",
    "It tells us which value a random variableis most likely to take on and which values are less likely.\n",
    "Based on the previous data and the occurance of the random event , we can predict the outcome in terms of probability."
   ]
  },
  {
   "cell_type": "markdown",
   "id": "57cd539a",
   "metadata": {},
   "source": [
    "Q2. Is there a distinction between true random numbers and pseudo-random numbers, if there is one? Why are the latter considered “good enough”?"
   ]
  },
  {
   "cell_type": "markdown",
   "id": "32313c51",
   "metadata": {},
   "source": [
    "Ans:True Random Numbers are true physical values while pseudo-random numbers are generated internally by a program . Latter is considered good enough as they have sort of uniform distribution."
   ]
  },
  {
   "cell_type": "markdown",
   "id": "783680a7",
   "metadata": {},
   "source": [
    "Q3. What are the two main factors that influence the behaviour of a \"normal\" probability distribution ?"
   ]
  },
  {
   "cell_type": "markdown",
   "id": "88e81289",
   "metadata": {},
   "source": [
    "Ans: Normal Probability Distribution are influenced by two factors mean and the variance."
   ]
  },
  {
   "cell_type": "markdown",
   "id": "ac17f6da",
   "metadata": {},
   "source": [
    "Q4. Provide a real-life example of a normal distribution ?"
   ]
  },
  {
   "cell_type": "markdown",
   "id": "5876b821",
   "metadata": {},
   "source": [
    "Ans: A Real-life example of a normal distribution are heights or blood pressure measurements"
   ]
  },
  {
   "cell_type": "markdown",
   "id": "34010a11",
   "metadata": {},
   "source": [
    "Q5. In the short term, how can you expect a probability distribution to behave? What do you think will happen as the number of trials grows ?"
   ]
  },
  {
   "cell_type": "markdown",
   "id": "94505f2c",
   "metadata": {},
   "source": [
    "Ans: Variance will decrease with number of trials"
   ]
  },
  {
   "cell_type": "markdown",
   "id": "879bb312",
   "metadata": {},
   "source": [
    "Q6. What kind of object can be shuffled by using random.shuffle ?"
   ]
  },
  {
   "cell_type": "markdown",
   "id": "14c6f769",
   "metadata": {},
   "source": [
    "Ans: lists (list), strings (str) and tuples (tuple) objects can be shuffled by using random.shuffle."
   ]
  },
  {
   "cell_type": "markdown",
   "id": "fd3e0f1c",
   "metadata": {},
   "source": [
    "Q7. Describe the math package's general categories of functions ?"
   ]
  },
  {
   "cell_type": "markdown",
   "id": "1699274f",
   "metadata": {},
   "source": [
    "Ans: The Math package's general categories of functions are:\n",
    "\n",
    "Trigonometric functions\n",
    "\n",
    "Quadratic functions\n",
    "\n",
    "Exponential functions\n",
    "\n",
    "Hyperbolic functions\n",
    "\n",
    "Periodic functions\n",
    "\n",
    "Arithmetic functions\n",
    "\n",
    "Logarithimic functions\n",
    "\n",
    "Conversions to Integer"
   ]
  },
  {
   "cell_type": "markdown",
   "id": "4714905b",
   "metadata": {},
   "source": [
    "Q8. What is the relationship between exponentiation and logarithms ?\n",
    "\n",
    "Ans: Exponentiation and logarithms are inverse of each other."
   ]
  },
  {
   "cell_type": "markdown",
   "id": "e54e3729",
   "metadata": {},
   "source": [
    "Q9. What are the three logarithmic functions that Python supports ?\n",
    "\n",
    "Ans: The Three Logarithmic Functions that Python supports are:\n",
    "\n",
    "log2(x) - logarithmic value of x to base 2\n",
    "\n",
    "log10(x) - logarithmic value of x to base 10\n",
    "\n",
    "log1p(a) - This function is used to compute logarithm(1+a) ."
   ]
  },
  {
   "cell_type": "code",
   "execution_count": null,
   "id": "6d185b4b",
   "metadata": {},
   "outputs": [],
   "source": []
  }
 ],
 "metadata": {
  "kernelspec": {
   "display_name": "Python 3 (ipykernel)",
   "language": "python",
   "name": "python3"
  },
  "language_info": {
   "codemirror_mode": {
    "name": "ipython",
    "version": 3
   },
   "file_extension": ".py",
   "mimetype": "text/x-python",
   "name": "python",
   "nbconvert_exporter": "python",
   "pygments_lexer": "ipython3",
   "version": "3.9.12"
  }
 },
 "nbformat": 4,
 "nbformat_minor": 5
}
