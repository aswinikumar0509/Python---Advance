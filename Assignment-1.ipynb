{
 "cells": [
  {
   "cell_type": "markdown",
   "id": "26274996",
   "metadata": {},
   "source": [
    "Q1. What is the purpose of Python&#39;s OOP?\n",
    "\n",
    "Ans->"
   ]
  },
  {
   "cell_type": "markdown",
   "id": "72e0c99a",
   "metadata": {},
   "source": [
    "In Python , Object-Oriented Programming (OOP) is a programming paradigm that uses object and class in programming.\n",
    "\n",
    "It  aims to implement real world entities like inheritance , polymorphisms , encapsulation , etc."
   ]
  },
  {
   "cell_type": "markdown",
   "id": "bbc108ff",
   "metadata": {},
   "source": [
    "Q2. Where does an inheritance search look for an attribute?\n",
    "\n",
    "Ans->"
   ]
  },
  {
   "cell_type": "markdown",
   "id": "6fc4cec6",
   "metadata": {},
   "source": [
    "The whole point of a namespace tool like the class startement is to support name inheritance . In python , inheritance happens when an object is qualified , and involves searching an attribute defination tree. Evert time ywe use an expression in form of object."
   ]
  },
  {
   "cell_type": "markdown",
   "id": "d706481e",
   "metadata": {},
   "source": [
    "Q3. How do you distinguish between a class object and an instance object?\n",
    "\n",
    "Ans->"
   ]
  },
  {
   "cell_type": "markdown",
   "id": "a816a705",
   "metadata": {},
   "source": [
    "1.Class : A class is the blue print.\n",
    "\n",
    "2.Object : It is the copy of the class.\n",
    "\n",
    "3.Instance : It is a variable which is used to hold memory address of the object."
   ]
  },
  {
   "cell_type": "markdown",
   "id": "00bc86ef",
   "metadata": {},
   "source": [
    "Q4. What makes the first argument in a class’s method function special?\n",
    "\n",
    "Ans->"
   ]
  },
  {
   "cell_type": "markdown",
   "id": "88fe8101",
   "metadata": {},
   "source": [
    "The first argunment of every class method , including init , is always a reference to the current instance of the class.By convention , this argunment is always named self.\n",
    "\n",
    "In the init method , self refer to the newly created object , in other class method , it refer to the instance whose method was called."
   ]
  },
  {
   "cell_type": "markdown",
   "id": "876f1f3d",
   "metadata": {},
   "source": [
    "Q5. What is the purpose of the __init__ method?\n",
    "\n",
    "Ans->"
   ]
  },
  {
   "cell_type": "markdown",
   "id": "7c4641d1",
   "metadata": {},
   "source": [
    "\"__init__\" is a reversed method in python class . It is called as constructor in object oriented terminology.This method is called when an object is created from a class and it allow the class to initialize the attibutes of the class."
   ]
  },
  {
   "cell_type": "markdown",
   "id": "091fb714",
   "metadata": {},
   "source": [
    " Q6. What is the process for creating a class instance?\n",
    "\n",
    "Ans->"
   ]
  },
  {
   "cell_type": "raw",
   "id": "18bcdf16",
   "metadata": {},
   "source": [
    "Instantiating a Class \n",
    "\n",
    "The new operator require a single , postfix argunment a call to a constuctor. The name of the constructor provide the name of the class to instantiate .The constructor initializes the new object.The new operator return a reference to the object is created."
   ]
  },
  {
   "cell_type": "markdown",
   "id": "01413dbc",
   "metadata": {},
   "source": [
    "Q7. What is the process for creating a class?\n",
    "\n",
    "Ans->"
   ]
  },
  {
   "cell_type": "markdown",
   "id": "a17f1fda",
   "metadata": {},
   "source": [
    "The proces  of creating the class:\n",
    "\n",
    "1.Declaration -  A variable declaration with a variable name with an object type.\n",
    "\n",
    "2.Instantiation - The 'new' keyword is used to create the object.\n",
    "\n",
    "3.Initialization - The 'new' keyword is followed by a call to a constructor.This call initialize the new object.\n",
    "    "
   ]
  },
  {
   "cell_type": "markdown",
   "id": "9c3813fb",
   "metadata": {},
   "source": [
    "Q8. How would you define the superclasses of a class?\n",
    "\n",
    "Ans->"
   ]
  },
  {
   "cell_type": "markdown",
   "id": "b8a41cd4",
   "metadata": {},
   "source": [
    "A superclass is the class  from which many subclass can be created.The subclass inherit the characteristics of a subclass .The superclass is also know as the parent class or base class.\n",
    "Ex :\n",
    "Vehicle is the superclass and its subclass are car , truck and motorcycle."
   ]
  },
  {
   "cell_type": "code",
   "execution_count": null,
   "id": "517a0b3a",
   "metadata": {},
   "outputs": [],
   "source": []
  }
 ],
 "metadata": {
  "kernelspec": {
   "display_name": "Python 3 (ipykernel)",
   "language": "python",
   "name": "python3"
  },
  "language_info": {
   "codemirror_mode": {
    "name": "ipython",
    "version": 3
   },
   "file_extension": ".py",
   "mimetype": "text/x-python",
   "name": "python",
   "nbconvert_exporter": "python",
   "pygments_lexer": "ipython3",
   "version": "3.9.12"
  }
 },
 "nbformat": 4,
 "nbformat_minor": 5
}
