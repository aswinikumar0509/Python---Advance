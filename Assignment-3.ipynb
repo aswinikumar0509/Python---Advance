{
 "cells": [
  {
   "cell_type": "markdown",
   "id": "5037f550",
   "metadata": {},
   "source": [
    "1. What is the concept of an abstract superclass?\n",
    "\n",
    "Ans->"
   ]
  },
  {
   "cell_type": "markdown",
   "id": "db0921b8",
   "metadata": {},
   "source": [
    "A class is called an Abstruct classs if it contain one or more abstruct method as method that is declared , but contain no implementation . Abstruct classes may not be instantiated , and its abstruct methods must be implemented by its subclass"
   ]
  },
  {
   "cell_type": "code",
   "execution_count": 2,
   "id": "59d7d712",
   "metadata": {},
   "outputs": [
    {
     "name": "stdout",
     "output_type": "stream",
     "text": [
      "Area :  200\n"
     ]
    }
   ],
   "source": [
    "import abc\n",
    "\n",
    "class shape(metaclass = abc.ABCMeta):\n",
    "    @abc.abstractmethod\n",
    "    def area(self):\n",
    "        pass\n",
    "    \n",
    "class Rectangle(shape):\n",
    "    def __init__(self,x,y):\n",
    "        self.l = x\n",
    "        self.b = y\n",
    "        \n",
    "    def area(self):\n",
    "        return self.l*self.b\n",
    "    \n",
    "r = Rectangle(10,20)\n",
    "print('Area : ' , r.area())"
   ]
  },
  {
   "cell_type": "markdown",
   "id": "1a80900e",
   "metadata": {},
   "source": [
    "The 'abc' module in Python library provides the infrastructure for defining custom abstract base classes.\n",
    "\n",
    "'abc' works by marking methods of the base class as abstract. This is done by @absttractmethod decorator. A concrete class which is a sub class of such abstract base class then implements the abstract base by overriding its abstract methods.\n",
    "\n",
    "The abc module defines ABCMeta class which is a metaclass for defining abstract base class. Following example defines Shape class as an abstract base class using ABCMeta. The shape class has area() method decorated by abstractmethod.\n",
    "\n",
    "A Rectangle class now uses above Shape class as its parent and implementing the abstract area() method. Since it is a concrete class, it can be instantiated and imlemented area() method can be called."
   ]
  },
  {
   "cell_type": "markdown",
   "id": "92e66f7a",
   "metadata": {},
   "source": [
    "2.What happens when a class statement's top level contains a basic assignment statement?\n",
    "\n",
    "Ans->"
   ]
  },
  {
   "cell_type": "markdown",
   "id": "ad9e6963",
   "metadata": {},
   "source": [
    "When class statement's top level contains a basic assignment statement, it is considered as class attribute. Change in the value of class attribute will affect all the instances of the class."
   ]
  },
  {
   "cell_type": "code",
   "execution_count": 4,
   "id": "83ce9531",
   "metadata": {},
   "outputs": [
    {
     "name": "stdout",
     "output_type": "stream",
     "text": [
      "12345\n",
      "2\n",
      "3\n",
      "567\n",
      "567\n"
     ]
    }
   ],
   "source": [
    "class sample:\n",
    "    some_value = 12345\n",
    "    \n",
    "    def __init__(self,value1):\n",
    "        self.value1 = value1\n",
    "        \n",
    "s= sample(2)\n",
    "s1 = sample(3)\n",
    "\n",
    "print(s.some_value)\n",
    "print(s.value1)\n",
    "print(s1.value1)\n",
    "\n",
    "sample.some_value = 567\n",
    "print(s.some_value)\n",
    "print(s1.some_value)"
   ]
  },
  {
   "cell_type": "markdown",
   "id": "99b99099",
   "metadata": {},
   "source": [
    "3.Why does a class need to manually call a superclass's init method?\n",
    "\n",
    "Ans->"
   ]
  },
  {
   "cell_type": "markdown",
   "id": "629daae3",
   "metadata": {},
   "source": [
    "By doing so,we can access those methods of the super-class (parent class) which have been overridden in a sub-class (child class) that inherits from it"
   ]
  },
  {
   "cell_type": "markdown",
   "id": "a61e9b8a",
   "metadata": {},
   "source": [
    "4.How can you augment, instead of completely replacing, an inherited method?\n",
    "\n",
    "Ans->"
   ]
  },
  {
   "cell_type": "markdown",
   "id": "6aeb989a",
   "metadata": {},
   "source": [
    "The way to do that in Python is by calling to the original version directly, with augmented arguments."
   ]
  },
  {
   "cell_type": "markdown",
   "id": "4b866f36",
   "metadata": {},
   "source": [
    "5.How is the local scope of a class different from that of a function?\n",
    "\n",
    "Ans->"
   ]
  },
  {
   "cell_type": "markdown",
   "id": "a3a7e5d1",
   "metadata": {},
   "source": [
    "In class, if the variable is declared without self then it is accessible within that function only, kinda local variable. However if it declared using self like self.variable_name = 'somevalue', then it is accessible via any object but not via the class name.\n",
    "\n",
    "Whereas, if a variable is declared within a function then it is a local variable and is accessible to that function only."
   ]
  },
  {
   "cell_type": "code",
   "execution_count": null,
   "id": "efa05fdd",
   "metadata": {},
   "outputs": [],
   "source": []
  }
 ],
 "metadata": {
  "kernelspec": {
   "display_name": "Python 3 (ipykernel)",
   "language": "python",
   "name": "python3"
  },
  "language_info": {
   "codemirror_mode": {
    "name": "ipython",
    "version": 3
   },
   "file_extension": ".py",
   "mimetype": "text/x-python",
   "name": "python",
   "nbconvert_exporter": "python",
   "pygments_lexer": "ipython3",
   "version": "3.9.12"
  }
 },
 "nbformat": 4,
 "nbformat_minor": 5
}
