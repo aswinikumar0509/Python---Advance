{
 "cells": [
  {
   "cell_type": "markdown",
   "id": "d555f52e",
   "metadata": {},
   "source": [
    "Q1. Define the relationship between a class and its instances. Is it a one-to-one or a one-to-many partnership, for example?"
   ]
  },
  {
   "cell_type": "markdown",
   "id": "c9108440",
   "metadata": {},
   "source": [
    "Relationship between a class and its instances is a one to many partnership"
   ]
  },
  {
   "cell_type": "markdown",
   "id": "6e239762",
   "metadata": {},
   "source": [
    "Q2. What kind of data is held only in an instance?"
   ]
  },
  {
   "cell_type": "markdown",
   "id": "4a239557",
   "metadata": {},
   "source": [
    "Instance objectd contains the instance variable which are specifice to that specific Instance object."
   ]
  },
  {
   "cell_type": "markdown",
   "id": "7b2ad976",
   "metadata": {},
   "source": [
    "Q3. What kind of knowledge is stored in a class?"
   ]
  },
  {
   "cell_type": "markdown",
   "id": "15457981",
   "metadata": {},
   "source": [
    "The methods with a class can be used to access the instance variable of its instance.\n",
    "So the objects state can be modified by its method. Function can;t access the attributes\n",
    "of an instance of a class or can't modified the state of the object."
   ]
  },
  {
   "cell_type": "markdown",
   "id": "2b4d997d",
   "metadata": {},
   "source": [
    "Q4. What exactly is a method, and how is it different from a regular function?"
   ]
  },
  {
   "cell_type": "markdown",
   "id": "75a78e10",
   "metadata": {},
   "source": [
    "The methods with a class can be used to access the instance variable of its instance.\n",
    "So the object state can be modified by its methods.Function can't access the attributes of an instance of a class or can't modified the state of the object."
   ]
  },
  {
   "cell_type": "markdown",
   "id": "bb8c5f38",
   "metadata": {},
   "source": [
    "Q5. Is inheritance supported in Python, and if so, what is the syntax?"
   ]
  },
  {
   "cell_type": "markdown",
   "id": "49d138d4",
   "metadata": {},
   "source": [
    "Yes , Python support the inheritance .\n",
    "The type of the inheritance are:"
   ]
  },
  {
   "cell_type": "markdown",
   "id": "b6e27889",
   "metadata": {},
   "source": [
    "1.Simple Inheritance\n",
    "\n",
    "2.Multiple Inheritance\n",
    "\n",
    "3.Multilevel Inheritance\n",
    "\n",
    "4.Hybrid Inheritance\n",
    "\n",
    "5.Hierracial Inheritance"
   ]
  },
  {
   "cell_type": "code",
   "execution_count": 2,
   "id": "710789d7",
   "metadata": {},
   "outputs": [],
   "source": [
    "class person:\n",
    "    def __init__(self,fname,lname):\n",
    "        self.first_name = fname\n",
    "        self.last_name = lname\n",
    "class student(person):\n",
    "    pass"
   ]
  },
  {
   "cell_type": "markdown",
   "id": "47ee639c",
   "metadata": {},
   "source": [
    "Q6. How much encapsulation (making instance or class variables private) does Python support?"
   ]
  },
  {
   "cell_type": "markdown",
   "id": "cd617459",
   "metadata": {},
   "source": [
    "Encapulation describe the idea  of wrapping data and the methods that work on data within one unit.This puts restriction on accessing variable and methods directly and can prevent the accidental modification of data.\n",
    "To prevent accidental change , an objects variable can only be changed by an objects metthod."
   ]
  },
  {
   "cell_type": "markdown",
   "id": "c99a9191",
   "metadata": {},
   "source": [
    "Q7.How do you distinguish between a class variable and an instance variable?"
   ]
  },
  {
   "cell_type": "markdown",
   "id": "56a413de",
   "metadata": {},
   "source": [
    "Ans: The Class Attribute is available to all the instance objects of that class. whereas Instance Attributes are accessible only to the object or Instance of that class.\n",
    "\n",
    "A single copy of Class attributes is maintained by pvm at the class level. Whereas difference copies of instance attributes are maintained by pvm at objects/instance level."
   ]
  },
  {
   "cell_type": "markdown",
   "id": "23075dec",
   "metadata": {},
   "source": [
    "Q8. When, if ever, can self be included in a class's method definitions?"
   ]
  },
  {
   "cell_type": "markdown",
   "id": "9ce05b91",
   "metadata": {},
   "source": [
    "Ans: Yes, self can included in class method definations to access the instance variables inside class methods."
   ]
  },
  {
   "cell_type": "markdown",
   "id": "d717b4a9",
   "metadata": {},
   "source": [
    "Q9. What is the difference between the __add__ and the __radd__ methods ?"
   ]
  },
  {
   "cell_type": "markdown",
   "id": "8cefb6d1",
   "metadata": {},
   "source": [
    "Ans: Entering __radd__ Python will first try __add__(), and if that returns Not Implemented Python will check if the right-hand operand implements __radd__, and if it does, it will call __radd__() rather than raising a TypeError"
   ]
  },
  {
   "cell_type": "markdown",
   "id": "ec54f013",
   "metadata": {},
   "source": [
    "Q10. When is it necessary to use a reflection method? When do you not need it, even though you support the operation in question?"
   ]
  },
  {
   "cell_type": "markdown",
   "id": "f4b4893c",
   "metadata": {},
   "source": [
    "Ans: Reflection method we often encounter the requirement that a method in the executing object, or a variable in the calling object, or a field of the object should be assigned, while the method name or field name can not be determined when encoding the code, and need to be input in the form of passing strings through parameters."
   ]
  },
  {
   "cell_type": "markdown",
   "id": "d07c09d3",
   "metadata": {},
   "source": [
    "Q11. What is the __iadd__ method called?"
   ]
  },
  {
   "cell_type": "markdown",
   "id": "6d848ba5",
   "metadata": {},
   "source": [
    "Ans: __iadd__ method is called when we use implementation like a+=b which is a.__iadd__(b)"
   ]
  },
  {
   "cell_type": "markdown",
   "id": "654301c1",
   "metadata": {},
   "source": [
    "Q12. Is the _ _init_ _ method inherited by subclasses? What do you do if you need to customize its behavior within a subclass ?"
   ]
  },
  {
   "cell_type": "markdown",
   "id": "119b9371",
   "metadata": {},
   "source": [
    "Ans: Yes, __init__ method will be inherited by subclasses. if we want to customize its behaviour within a subclass we can use super() method."
   ]
  },
  {
   "cell_type": "code",
   "execution_count": null,
   "id": "7a157796",
   "metadata": {},
   "outputs": [],
   "source": []
  }
 ],
 "metadata": {
  "kernelspec": {
   "display_name": "Python 3 (ipykernel)",
   "language": "python",
   "name": "python3"
  },
  "language_info": {
   "codemirror_mode": {
    "name": "ipython",
    "version": 3
   },
   "file_extension": ".py",
   "mimetype": "text/x-python",
   "name": "python",
   "nbconvert_exporter": "python",
   "pygments_lexer": "ipython3",
   "version": "3.9.12"
  }
 },
 "nbformat": 4,
 "nbformat_minor": 5
}
