{
 "cells": [
  {
   "cell_type": "markdown",
   "id": "06e29607",
   "metadata": {},
   "source": [
    "1.Compare and contrast the float and Decimal classes' benefits and drawbacks ?"
   ]
  },
  {
   "cell_type": "markdown",
   "id": "c44fdf9d",
   "metadata": {},
   "source": [
    "Ans: Both the float and decimal types store numerical values in Python.\n",
    "\n",
    "Use floats when convenience and speed matter. A float gives you an approximation of the number you declare.\n",
    "\n",
    "Use decimals when precision matters. Decimals can suffer from their own precision issues, but generally, decimals are more precise than floats. The performance difference between float and decimal, with Python 3, is not outlandish, and in my experience, the precision benefits of a decimal outweigh the performance benefits of a float."
   ]
  },
  {
   "cell_type": "markdown",
   "id": "707b984f",
   "metadata": {},
   "source": [
    "2. Decimal('1.200') and Decimal('1.2') are two objects to consider. In what sense are these the same object? Are these just two ways of representing the exact same value, or do they correspond to different internal states ?"
   ]
  },
  {
   "cell_type": "markdown",
   "id": "bdae5c87",
   "metadata": {},
   "source": [
    "Ans: Both values are same but internal representation at storage Is different. Precsion differs, Decimal('1.200') gives internally 1.200 and Decimal('1.2') gives 1.2."
   ]
  },
  {
   "cell_type": "markdown",
   "id": "e13b285f",
   "metadata": {},
   "source": [
    "3. What happens if the equality of Decimal('1.200') and Decimal('1.2') is checked ?"
   ]
  },
  {
   "cell_type": "markdown",
   "id": "9da12b60",
   "metadata": {},
   "source": [
    "Ans: Both values are checked to be equal , they only differ in precision."
   ]
  },
  {
   "cell_type": "markdown",
   "id": "711c3c60",
   "metadata": {},
   "source": [
    "4.Why is it preferable to start a Decimal object with a string rather than a floating-point value ?"
   ]
  },
  {
   "cell_type": "markdown",
   "id": "19af063f",
   "metadata": {},
   "source": [
    "Floating point value is converted to decimal format.Decimal can store float value with absolute precision . But when float value as Decimal object , it first has to be converted from floating point value which might already have a rounding value.\n",
    "\n",
    "To do these operation , the floating point has to be converted to a decimal."
   ]
  },
  {
   "cell_type": "markdown",
   "id": "c5ee6f86",
   "metadata": {},
   "source": [
    "7. Using the Fraction class but not the Decimal class, give an example of a quantity that can be expressed with absolute precision ?"
   ]
  },
  {
   "cell_type": "markdown",
   "id": "1f8cc3c9",
   "metadata": {},
   "source": [
    " Ans -> \n",
    " \n",
    "Value of 0.5 will be represented as 1/2"
   ]
  },
  {
   "cell_type": "markdown",
   "id": "07655c90",
   "metadata": {},
   "source": [
    "8.Consider the following two fraction objects: Fraction(1, 2) and Fraction(1, 2). (5, 10). Is the internal state of these two objects the same? Why do you think that is ?"
   ]
  },
  {
   "cell_type": "markdown",
   "id": "e7fb1fad",
   "metadata": {},
   "source": [
    "Ans: Both will be reduced to 1/2"
   ]
  },
  {
   "cell_type": "markdown",
   "id": "311c7e3e",
   "metadata": {},
   "source": [
    "9.. How do the Fraction class and the integer type (int) relate to each other? Containment or inheritance ?"
   ]
  },
  {
   "cell_type": "markdown",
   "id": "8f4a0f99",
   "metadata": {},
   "source": [
    "Ans: Fraction class and integer type(int) are related in form of a container.It contains two ints, one the numerator and the other the denominator"
   ]
  },
  {
   "cell_type": "code",
   "execution_count": null,
   "id": "2d4b5f0c",
   "metadata": {},
   "outputs": [],
   "source": []
  }
 ],
 "metadata": {
  "kernelspec": {
   "display_name": "Python 3 (ipykernel)",
   "language": "python",
   "name": "python3"
  },
  "language_info": {
   "codemirror_mode": {
    "name": "ipython",
    "version": 3
   },
   "file_extension": ".py",
   "mimetype": "text/x-python",
   "name": "python",
   "nbconvert_exporter": "python",
   "pygments_lexer": "ipython3",
   "version": "3.9.12"
  }
 },
 "nbformat": 4,
 "nbformat_minor": 5
}
