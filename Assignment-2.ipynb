{
 "cells": [
  {
   "cell_type": "markdown",
   "id": "7e47446b",
   "metadata": {},
   "source": [
    "Q1. What is the relationship between classes and modules?\n",
    "\n",
    "Ans->"
   ]
  },
  {
   "cell_type": "markdown",
   "id": "9de0a416",
   "metadata": {},
   "source": [
    "Modules are about providing methods that you can use across multiple classes.Modules are about functions.You  dont instantiate modules ( e.g. Math module).You just use methods in them. Module is like library of methods.\n",
    "\n",
    "Classes are about objects ; it can hold its state ( by keeping track of instance variable) and be duplicated as as many as you want."
   ]
  },
  {
   "cell_type": "markdown",
   "id": "4c119fcf",
   "metadata": {},
   "source": [
    "Q2. How do you make instances and classes?\n",
    "\n",
    "Ans->"
   ]
  },
  {
   "cell_type": "markdown",
   "id": "3e124954",
   "metadata": {},
   "source": [
    "To create instance of a class , you call the class using class name and pass in whatever argunments its init methods accepts.\n",
    "\n",
    "The class statement create a new class defination.\n",
    "\n",
    "The name of the class immediately follow the keyword class followed by a colon.\n"
   ]
  },
  {
   "cell_type": "code",
   "execution_count": 6,
   "id": "45ac297e",
   "metadata": {},
   "outputs": [
    {
     "name": "stdout",
     "output_type": "stream",
     "text": [
      "This is Aswini Kumar (an instance of class Student)\n"
     ]
    }
   ],
   "source": [
    "class Students :\n",
    "    def __init__(self ,name):\n",
    "        self.name = name\n",
    "        \n",
    "    def __str__(self):\n",
    "        return f\"This is {self.name} (an instance of class Student)\"\n",
    "    \n",
    "student1 = Students(\"Aswini Kumar\")\n",
    "print(student1)"
   ]
  },
  {
   "cell_type": "markdown",
   "id": "f2b0d0e0",
   "metadata": {},
   "source": [
    "Q3. Where and how should be class attributes created?\n",
    "\n",
    "Ans->"
   ]
  },
  {
   "cell_type": "markdown",
   "id": "428c0536",
   "metadata": {},
   "source": [
    "Class attributes belong to the class itself they will be shared by all the instances. Such attributes are defined in the class body parts usually at the top , for legibility."
   ]
  },
  {
   "cell_type": "code",
   "execution_count": 12,
   "id": "50a3f293",
   "metadata": {},
   "outputs": [
    {
     "name": "stdout",
     "output_type": "stream",
     "text": [
      "Sudhabshu\n",
      "This is Aswini Kumar 19 (an instance of a class student)\n"
     ]
    }
   ],
   "source": [
    "class student:\n",
    "    class_teacher = \"Sudhabshu\"\n",
    "    \n",
    "    def __init__(self,name,roll_no):\n",
    "        self.name = name\n",
    "        self.roll_no = roll_no\n",
    "        \n",
    "    def __str__(self):\n",
    "        return f\"This is { self.name} {self.roll_no} (an instance of a class student)\"\n",
    "    \n",
    "student1 = student(\"Aswini Kumar\",19)\n",
    "print(student1.class_teacher)\n",
    "print(student1)"
   ]
  },
  {
   "cell_type": "markdown",
   "id": "067aca87",
   "metadata": {},
   "source": [
    "Q4. Where and how are instance attributes created?\n",
    "\n",
    "Ans->"
   ]
  },
  {
   "cell_type": "markdown",
   "id": "6855cae3",
   "metadata": {},
   "source": [
    "Unlike class attributes , instance attributes are not shared by objects. Every object has its own copy of the instance attribute. They are created in init methods.\n",
    "\n",
    "How they are created is Explained below :\n"
   ]
  },
  {
   "cell_type": "code",
   "execution_count": 13,
   "id": "fa16cdbd",
   "metadata": {},
   "outputs": [
    {
     "name": "stdout",
     "output_type": "stream",
     "text": [
      "Aswini Kumar\n",
      "19\n"
     ]
    }
   ],
   "source": [
    "class student:\n",
    "    def __init__(self,name,roll_no):\n",
    "        self.name = name\n",
    "        self.roll_no = roll_no\n",
    "        \n",
    "    def __str__(self):\n",
    "        return f\"This is {self.name} (an instance of a class student)\"\n",
    "\n",
    "student1 = student(\"Aswini Kumar\",19)\n",
    "\n",
    "print(student1.name)\n",
    "print(student1.roll_no)"
   ]
  },
  {
   "cell_type": "markdown",
   "id": "c0a865db",
   "metadata": {},
   "source": [
    "Q5. What does the term \"self\" in a Python class mean?\n",
    "\n",
    "Ans->"
   ]
  },
  {
   "cell_type": "markdown",
   "id": "367a7bf4",
   "metadata": {},
   "source": [
    "Self represent the instance of the class . By using the \"self\" keyword we can access the attributes and methods of the class in python. It binds the attributes with given argunments.The reason you need to use self,is because python dor=es not use the @ syntax to refer to instance attributes.\n",
    "Python decided to do methods in a way that makes the instance to which the method belongs br passed automatically , but not received automatically the first parameter of methods is the instance the methods is called on."
   ]
  },
  {
   "cell_type": "markdown",
   "id": "ecb0282e",
   "metadata": {},
   "source": [
    "Q6. How does a Python class handle operator overloading?\n",
    "\n",
    "Ans->"
   ]
  },
  {
   "cell_type": "markdown",
   "id": "65760e53",
   "metadata": {},
   "source": [
    "Operator Overloading means giving extended meaning beyond their predefined operational meaning .\n",
    "for example operator + is used to add two interger as well as join two string and merge two lists.\n",
    "\n",
    "It is achievable because '+' operator is overloading by iny class and str class"
   ]
  },
  {
   "cell_type": "code",
   "execution_count": 1,
   "id": "0bb59be3",
   "metadata": {},
   "outputs": [
    {
     "name": "stdout",
     "output_type": "stream",
     "text": [
      "3\n",
      "abcdefg\n",
      "39\n",
      "IneuronIneuronIneuronIneuron\n"
     ]
    }
   ],
   "source": [
    "#  and * operator is for different purposes\n",
    "\n",
    "print(1+2)\n",
    "\n",
    "# concatenate two string\n",
    "\n",
    "print(\"abcd\"+\"efg\")\n",
    "\n",
    "# Product two number\n",
    "print(13*3)\n",
    "\n",
    "# Repeat the string\n",
    "\n",
    "print(\"Ineuron\"*4)"
   ]
  },
  {
   "cell_type": "raw",
   "id": "0ce7eb1c",
   "metadata": {},
   "source": [
    "Q7. When do you consider allowing operator overloading of your classes?\n",
    "\n",
    "Ans->"
   ]
  },
  {
   "cell_type": "markdown",
   "id": "4c6b9e9f",
   "metadata": {},
   "source": [
    "Let us assume we have an object called string1 which is a string object called string1 which is a string object as defined below.Now when we try to add a string to the this string object, then the compiler throw the error.\n",
    "\n",
    "This only because the compailer does'nt know how to add"
   ]
  },
  {
   "cell_type": "code",
   "execution_count": 6,
   "id": "de6cdec6",
   "metadata": {},
   "outputs": [
    {
     "ename": "TypeError",
     "evalue": "unsupported operand type(s) for +: 'string' and 'str'",
     "output_type": "error",
     "traceback": [
      "\u001b[1;31m---------------------------------------------------------------------------\u001b[0m",
      "\u001b[1;31mTypeError\u001b[0m                                 Traceback (most recent call last)",
      "Input \u001b[1;32mIn [6]\u001b[0m, in \u001b[0;36m<cell line: 10>\u001b[1;34m()\u001b[0m\n\u001b[0;32m      6\u001b[0m         \u001b[38;5;28;01mreturn\u001b[39;00m \u001b[38;5;124m'\u001b[39m\u001b[38;5;124mObject : \u001b[39m\u001b[38;5;132;01m{}\u001b[39;00m\u001b[38;5;124m'\u001b[39m\u001b[38;5;241m.\u001b[39mformat(\u001b[38;5;28mself\u001b[39m\u001b[38;5;241m.\u001b[39mstring)\n\u001b[0;32m      8\u001b[0m string1 \u001b[38;5;241m=\u001b[39m string(\u001b[38;5;124m\"\u001b[39m\u001b[38;5;124mHello\u001b[39m\u001b[38;5;124m\"\u001b[39m)\n\u001b[1;32m---> 10\u001b[0m \u001b[38;5;28mprint\u001b[39m(\u001b[43mstring1\u001b[49m\u001b[43m \u001b[49m\u001b[38;5;241;43m+\u001b[39;49m\u001b[38;5;124;43m\"\u001b[39;49m\u001b[38;5;124;43mworld\u001b[39;49m\u001b[38;5;124;43m\"\u001b[39;49m)\n",
      "\u001b[1;31mTypeError\u001b[0m: unsupported operand type(s) for +: 'string' and 'str'"
     ]
    }
   ],
   "source": [
    "class string:\n",
    "    def __init__(self,string):\n",
    "        self.string = string\n",
    "    \n",
    "    def __repr__(self):\n",
    "        return 'Object : {}'.format(self.string)\n",
    "    \n",
    "string1 = string(\"Hello\")\n",
    "\n",
    "print(string1 +\"world\")"
   ]
  },
  {
   "cell_type": "code",
   "execution_count": 5,
   "id": "eed0591a",
   "metadata": {},
   "outputs": [
    {
     "name": "stdout",
     "output_type": "stream",
     "text": [
      "Hello world\n"
     ]
    }
   ],
   "source": [
    "# declare our own string class\n",
    "class String:\n",
    "    def __init__(self, string):\n",
    "            self.string = string         \n",
    "                \n",
    "    def __add__(self, other):\n",
    "          return self.string + other\n",
    "            \n",
    "    def __repr__(self):\n",
    "        return 'Object: {}'.format(self.string)\n",
    "\n",
    "string1 = String('Hello')    \n",
    "\n",
    "# concatenate String object and a string\n",
    "print(string1 +' world')"
   ]
  },
  {
   "cell_type": "markdown",
   "id": "51c97ce8",
   "metadata": {},
   "source": [
    "Q8. What is the most popular form of operator overloading?\n",
    "\n",
    "Ans->"
   ]
  },
  {
   "cell_type": "markdown",
   "id": "eaa4f0ad",
   "metadata": {},
   "source": [
    "Most popular form of the operator overloading is of addition \"+\" \n",
    "operator.When two interger are passed to + operator , it will return the sum of two intergers.\n",
    "When two string are passed to + operator , it will return concatenate of two string"
   ]
  },
  {
   "cell_type": "markdown",
   "id": "e4556294",
   "metadata": {},
   "source": [
    "Q9. What are the two most important concepts to grasp in order to comprehend Python OOP code?\n",
    "\n",
    "Ans->"
   ]
  },
  {
   "cell_type": "markdown",
   "id": "8a32747b",
   "metadata": {},
   "source": [
    "1.Inheritance.\n",
    "\n",
    "2.Polymorphism."
   ]
  },
  {
   "cell_type": "code",
   "execution_count": null,
   "id": "af689433",
   "metadata": {},
   "outputs": [],
   "source": []
  }
 ],
 "metadata": {
  "kernelspec": {
   "display_name": "Python 3 (ipykernel)",
   "language": "python",
   "name": "python3"
  },
  "language_info": {
   "codemirror_mode": {
    "name": "ipython",
    "version": 3
   },
   "file_extension": ".py",
   "mimetype": "text/x-python",
   "name": "python",
   "nbconvert_exporter": "python",
   "pygments_lexer": "ipython3",
   "version": "3.9.12"
  }
 },
 "nbformat": 4,
 "nbformat_minor": 5
}
